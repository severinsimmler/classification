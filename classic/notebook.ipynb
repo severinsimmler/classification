{
 "cells": [
  {
   "cell_type": "code",
   "execution_count": 1,
   "metadata": {},
   "outputs": [],
   "source": [
    "import pandas as pd\n",
    "\n",
    "import classification"
   ]
  },
  {
   "cell_type": "markdown",
   "metadata": {},
   "source": [
    "## Process corpora in classic pipeline\n",
    "\n",
    "1. Tokenization\n",
    "2. Vectorization\n",
    "3. TF-IDF\n",
    "4. Hyperparameter optimization\n",
    "5. Training\n",
    "6. Evaluation\n",
    "\n",
    "Classic algorithms are:\n",
    "- Random\n",
    "- Naïve Bayes\n",
    "- Logistic Regression\n",
    "- Support Vector Machine"
   ]
  },
  {
   "cell_type": "code",
   "execution_count": 4,
   "metadata": {},
   "outputs": [
    {
     "name": "stdout",
     "output_type": "stream",
     "text": [
      "zeitung\n",
      "Logistic Regression {'C': 100.0, 'random_state': 23}\n",
      "Support Vector Machine {'alpha': 0.0001, 'random_state': 23}\n",
      "\n",
      "wikipedia\n",
      "Logistic Regression {'C': 1000.0, 'random_state': 23}\n",
      "Support Vector Machine {'alpha': 0.0001, 'random_state': 23}\n",
      "\n",
      "romane\n",
      "Logistic Regression {'C': 0.1, 'random_state': 23}\n",
      "Support Vector Machine {'alpha': 0.01, 'random_state': 23}\n",
      "\n",
      "dramen\n",
      "Logistic Regression {'C': 10.0, 'random_state': 23}\n",
      "Support Vector Machine {'alpha': 0.0001, 'random_state': 23}\n",
      "\n"
     ]
    }
   ],
   "source": [
    "scores = dict()\n",
    "\n",
    "for corpus in {\"wikipedia\", \"dramen\", \"zeitung\", \"romane\"}:\n",
    "    score = dict(classification.classic_pipeline(corpus))\n",
    "    score = pd.Series(score)\n",
    "    score.name = corpus.capitalize()\n",
    "    scores[corpus] = score\n",
    "\n",
    "scores = pd.DataFrame(scores).round(4).T"
   ]
  },
  {
   "cell_type": "code",
   "execution_count": 3,
   "metadata": {},
   "outputs": [
    {
     "data": {
      "text/html": [
       "<div>\n",
       "<style scoped>\n",
       "    .dataframe tbody tr th:only-of-type {\n",
       "        vertical-align: middle;\n",
       "    }\n",
       "\n",
       "    .dataframe tbody tr th {\n",
       "        vertical-align: top;\n",
       "    }\n",
       "\n",
       "    .dataframe thead th {\n",
       "        text-align: right;\n",
       "    }\n",
       "</style>\n",
       "<table border=\"1\" class=\"dataframe\">\n",
       "  <thead>\n",
       "    <tr style=\"text-align: right;\">\n",
       "      <th></th>\n",
       "      <th>Dramen</th>\n",
       "      <th>Romane</th>\n",
       "      <th>Wikipedia</th>\n",
       "      <th>Zeitung</th>\n",
       "    </tr>\n",
       "  </thead>\n",
       "  <tbody>\n",
       "    <tr>\n",
       "      <th>Random</th>\n",
       "      <td>0.3544</td>\n",
       "      <td>0.3544</td>\n",
       "      <td>0.3544</td>\n",
       "      <td>0.3544</td>\n",
       "    </tr>\n",
       "    <tr>\n",
       "      <th>Naïve Bayes</th>\n",
       "      <td>0.6203</td>\n",
       "      <td>0.6835</td>\n",
       "      <td>0.8987</td>\n",
       "      <td>0.7722</td>\n",
       "    </tr>\n",
       "    <tr>\n",
       "      <th>Logistic Regression</th>\n",
       "      <td>0.6709</td>\n",
       "      <td>0.6203</td>\n",
       "      <td>0.9241</td>\n",
       "      <td>0.7975</td>\n",
       "    </tr>\n",
       "    <tr>\n",
       "      <th>Support Vector Machine</th>\n",
       "      <td>0.7215</td>\n",
       "      <td>0.7089</td>\n",
       "      <td>0.9114</td>\n",
       "      <td>0.7848</td>\n",
       "    </tr>\n",
       "  </tbody>\n",
       "</table>\n",
       "</div>"
      ],
      "text/plain": [
       "                        Dramen  Romane  Wikipedia  Zeitung\n",
       "Random                  0.3544  0.3544     0.3544   0.3544\n",
       "Naïve Bayes             0.6203  0.6835     0.8987   0.7722\n",
       "Logistic Regression     0.6709  0.6203     0.9241   0.7975\n",
       "Support Vector Machine  0.7215  0.7089     0.9114   0.7848"
      ]
     },
     "execution_count": 3,
     "metadata": {},
     "output_type": "execute_result"
    }
   ],
   "source": [
    "scores.loc[:, [\"Dramen\", \"Romane\", \"Wikipedia\", \"Zeitung\"]]"
   ]
  }
 ],
 "metadata": {
  "kernelspec": {
   "display_name": "Python 3",
   "language": "python",
   "name": "python3"
  },
  "language_info": {
   "codemirror_mode": {
    "name": "ipython",
    "version": 3
   },
   "file_extension": ".py",
   "mimetype": "text/x-python",
   "name": "python",
   "nbconvert_exporter": "python",
   "pygments_lexer": "ipython3",
   "version": "3.7.2"
  }
 },
 "nbformat": 4,
 "nbformat_minor": 4
}
