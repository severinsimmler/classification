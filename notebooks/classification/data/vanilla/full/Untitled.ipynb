{
 "cells": [
  {
   "cell_type": "code",
   "execution_count": 1,
   "metadata": {},
   "outputs": [],
   "source": [
    "import json\n",
    "\n",
    "with open(\"zeitung.json\", \"r\", encoding=\"utf-8\") as f:\n",
    "    data = json.load(f)"
   ]
  },
  {
   "cell_type": "code",
   "execution_count": 1,
   "metadata": {},
   "outputs": [],
   "source": [
    "from spacy.lang.de import German\n",
    "\n",
    "nlp = German()\n",
    "nlp.add_pipe(nlp.create_pipe(\"sentencizer\"))"
   ]
  },
  {
   "cell_type": "code",
   "execution_count": 2,
   "metadata": {},
   "outputs": [
    {
     "name": "stderr",
     "output_type": "stream",
     "text": [
      "The pre-trained model you are loading is a cased model but you have not set `do_lower_case` to False. We are setting `do_lower_case=False` for you but you may want to check this behavior.\n"
     ]
    }
   ],
   "source": [
    "from pytorch_transformers import BertTokenizer\n",
    "tokenizer = BertTokenizer.from_pretrained('bert-base-german-cased')"
   ]
  },
  {
   "cell_type": "code",
   "execution_count": 4,
   "metadata": {},
   "outputs": [
    {
     "data": {
      "text/plain": [
       "['Hall', '##o', 'wie', 'geht', \"'\", 's', 'mir', 'geht', 'es', 'gut']"
      ]
     },
     "execution_count": 4,
     "metadata": {},
     "output_type": "execute_result"
    }
   ],
   "source": [
    "tokenizer.tokenize(\"Hallo wie geht's mir geht es gut\")"
   ]
  },
  {
   "cell_type": "code",
   "execution_count": 10,
   "metadata": {},
   "outputs": [],
   "source": [
    "from pathlib import Path\n",
    "import json\n",
    "\n",
    "for file in Path(\".\").glob(\"*.json\"):\n",
    "    eingabe = file\n",
    "    output = f\"sentences/{file.stem}-sentences.json\"\n",
    "    with open(eingabe, \"r\", encoding=\"utf-8\") as f:\n",
    "        data = json.load(f)\n",
    "    new = list()\n",
    "    TEMPLATE = {\"text\": \"\", \"_class\": \"\", \"class\": \"\"}\n",
    "    for case in data:\n",
    "        doc = nlp(case[\"text\"])\n",
    "        TEMPLATE = {\"text\": \"\", \"_class\": case[\"_class\"], \"class\": case[\"class\"]}\n",
    "        zw = [TEMPLATE.copy()]\n",
    "        current = len(zw) - 1\n",
    "        for sent in doc.sents:\n",
    "            already = tokenizer.tokenize(zw[current][\"text\"])\n",
    "            now = tokenizer.tokenize(sent.text)\n",
    "            if (len(already) + len(now)) < 500:\n",
    "                zw[current][\"text\"] += f\" {sent.text}\"\n",
    "            else:\n",
    "                new.extend(zw)\n",
    "                zw = [TEMPLATE.copy()]\n",
    "                current = len(zw) - 1\n",
    "                zw[current][\"text\"] = sent.text\n",
    "        if len(zw[current][\"text\"].split(\" \")) > 50:\n",
    "            new.extend(zw)\n",
    "\n",
    "    with open(output, \"w\", encoding=\"utf-8\") as f:\n",
    "        f.write(json.dumps(new, indent=2, ensure_ascii=False))\n"
   ]
  },
  {
   "cell_type": "code",
   "execution_count": 1,
   "metadata": {},
   "outputs": [],
   "source": [
    "from spacy.lang.de import German"
   ]
  },
  {
   "cell_type": "code",
   "execution_count": 5,
   "metadata": {},
   "outputs": [
    {
     "data": {
      "text/plain": [
       "223"
      ]
     },
     "execution_count": 5,
     "metadata": {},
     "output_type": "execute_result"
    }
   ],
   "source": [
    "nlp = German()\n",
    "nlp.add_pipe(nlp.create_pipe(\"sentencizer\"))\n"
   ]
  },
  {
   "cell_type": "code",
   "execution_count": 14,
   "metadata": {},
   "outputs": [],
   "source": [
    "for file in Path(\"sentences\").glob(\"*.json\"):\n",
    "    data = json.loads(file.read_text(encoding=\"utf-8\"))\n",
    "    for i, x in enumerate(data):\n",
    "        data[i][\"text\"] = data[i][\"text\"].strip()\n",
    "    with file.open(\"w\", encoding=\"utf-8\") as f:\n",
    "        f.write(json.dumps(data, indent=2, ensure_ascii=False))"
   ]
  },
  {
   "cell_type": "code",
   "execution_count": 15,
   "metadata": {},
   "outputs": [
    {
     "ename": "ModuleNotFoundError",
     "evalue": "No module named 'classification'",
     "output_type": "error",
     "traceback": [
      "\u001b[0;31m---------------------------------------------------------------------------\u001b[0m",
      "\u001b[0;31mModuleNotFoundError\u001b[0m                       Traceback (most recent call last)",
      "\u001b[0;32m<ipython-input-15-f62e28ae1feb>\u001b[0m in \u001b[0;36m<module>\u001b[0;34m\u001b[0m\n\u001b[0;32m----> 1\u001b[0;31m \u001b[0;32mfrom\u001b[0m \u001b[0mclassification\u001b[0m \u001b[0;32mimport\u001b[0m \u001b[0mpreprocessing\u001b[0m\u001b[0;34m\u001b[0m\u001b[0;34m\u001b[0m\u001b[0m\n\u001b[0m",
      "\u001b[0;31mModuleNotFoundError\u001b[0m: No module named 'classification'"
     ]
    }
   ],
   "source": [
    "from classification import preprocessing"
   ]
  },
  {
   "cell_type": "code",
   "execution_count": null,
   "metadata": {},
   "outputs": [],
   "source": []
  }
 ],
 "metadata": {
  "kernelspec": {
   "display_name": "Python 3",
   "language": "python",
   "name": "python3"
  },
  "language_info": {
   "codemirror_mode": {
    "name": "ipython",
    "version": 3
   },
   "file_extension": ".py",
   "mimetype": "text/x-python",
   "name": "python",
   "nbconvert_exporter": "python",
   "pygments_lexer": "ipython3",
   "version": "3.7.2"
  }
 },
 "nbformat": 4,
 "nbformat_minor": 4
}
